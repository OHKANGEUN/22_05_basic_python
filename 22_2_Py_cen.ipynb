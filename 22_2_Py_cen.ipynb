{
  "nbformat": 4,
  "nbformat_minor": 0,
  "metadata": {
    "colab": {
      "provenance": [],
      "authorship_tag": "ABX9TyNkETzbqnjaHoXN9fz1SKrs",
      "include_colab_link": true
    },
    "kernelspec": {
      "name": "python3",
      "display_name": "Python 3"
    },
    "language_info": {
      "name": "python"
    }
  },
  "cells": [
    {
      "cell_type": "markdown",
      "metadata": {
        "id": "view-in-github",
        "colab_type": "text"
      },
      "source": [
        "<a href=\"https://colab.research.google.com/github/OHKANGEUN/22_05_basic_python/blob/main/22_2_Py_cen.ipynb\" target=\"_parent\"><img src=\"https://colab.research.google.com/assets/colab-badge.svg\" alt=\"Open In Colab\"/></a>"
      ]
    },
    {
      "cell_type": "markdown",
      "source": [
        "19. 다음 보기의 사칙연산을 완성하시오. 한줄에 모두, 여러줄로 나누어서,보기좋게 정리."
      ],
      "metadata": {
        "id": "fKmQVyphUZeE"
      }
    },
    {
      "cell_type": "code",
      "source": [
        "print(1+2,2-3.3+4,4/4)\n",
        "print(1+2)\n",
        "print(2-3)\n",
        "print(3*4)\n",
        "print(4/4)"
      ],
      "metadata": {
        "colab": {
          "base_uri": "https://localhost:8080/"
        },
        "id": "y8OMm5grUhre",
        "outputId": "7391f62f-25e2-48f2-a0cd-161f15f56282"
      },
      "execution_count": 1,
      "outputs": [
        {
          "output_type": "stream",
          "name": "stdout",
          "text": [
            "3 2.7 1.0\n",
            "3\n",
            "-1\n",
            "12\n",
            "1.0\n"
          ]
        }
      ]
    },
    {
      "cell_type": "markdown",
      "source": [
        "20.보기좋게 코딩하시오.\n",
        "**********************************\n",
        "* 제 1조 1항 대한민국은 민주공화국이다. *\n",
        "**********************************"
      ],
      "metadata": {
        "id": "Cipz07KvVApj"
      }
    },
    {
      "cell_type": "code",
      "source": [
        "print(\"*\"*40)\n",
        "print(\"* 제1조 1항 대한민국은 민주공화국이다. *\")\n",
        "print(\"*\"*40)"
      ],
      "metadata": {
        "colab": {
          "base_uri": "https://localhost:8080/"
        },
        "id": "Fh0-Tx54VVsa",
        "outputId": "f686c393-dd14-4d60-e8a9-a9985373eb14"
      },
      "execution_count": 3,
      "outputs": [
        {
          "output_type": "stream",
          "name": "stdout",
          "text": [
            "****************************************\n",
            "* 제1조 1항 대한민국은 민주공화국이다. *\n",
            "****************************************\n"
          ]
        }
      ]
    },
    {
      "cell_type": "markdown",
      "source": [
        "21.사용자에게 성명,나이,주소를 입력받아서 출력하라."
      ],
      "metadata": {
        "id": "zsyMa6ooWNAf"
      }
    },
    {
      "cell_type": "code",
      "source": [
        "name=input(\"이름을 입력하시오.:\")\n",
        "age=input(\"나이를 입력하시오.:\")\n",
        "addr=input(\"주소를 입력하시오.:\")\n",
        "print(name)\n",
        "print(age)\n",
        "print(addr)\n",
        "print(name,age,addr)"
      ],
      "metadata": {
        "colab": {
          "base_uri": "https://localhost:8080/"
        },
        "id": "MJa4YYvUWbyO",
        "outputId": "004373c1-51cb-4cae-901a-850aecd16942"
      },
      "execution_count": 7,
      "outputs": [
        {
          "output_type": "stream",
          "name": "stdout",
          "text": [
            "이름을 입력하시오.:오강은\n",
            "나이를 입력하시오.:20\n",
            "주소를 입력하시오.:전북 익산시 동서로300\n",
            "오강은\n",
            "20\n",
            "전북 익산시 동서로300\n",
            "오강은 20 전북 익산시 동서로300\n"
          ]
        }
      ]
    },
    {
      "cell_type": "markdown",
      "source": [
        "29."
      ],
      "metadata": {
        "id": "eJEOfxChXrn4"
      }
    },
    {
      "cell_type": "code",
      "source": [
        "n1=input(\"첫번째 정수를입력하시오.:\")\n",
        "n2=input(\"두번째 정수를입력하시오.:\")\n",
        "print(\"두 합의 값은\",n1+n2,\"입니다.\")"
      ],
      "metadata": {
        "colab": {
          "base_uri": "https://localhost:8080/"
        },
        "id": "gHElkA6gZtrW",
        "outputId": "e4c3422c-3411-4507-c0af-4c723c5e6b1c"
      },
      "execution_count": 10,
      "outputs": [
        {
          "output_type": "stream",
          "name": "stdout",
          "text": [
            "첫번째 정수를입력하시오.:100\n",
            "두번째 정수를입력하시오.:100\n",
            "두 합의 값은 100100 입니다.\n"
          ]
        }
      ]
    },
    {
      "cell_type": "code",
      "source": [
        "n1=int(input(\"첫번째 정수를입력하시오.:\"))\n",
        "n2=int(input(\"두번째 정수를입력하시오.:\"))\n",
        "print(\"두 합의 값은\",n1+n2,\"입니다.\")"
      ],
      "metadata": {
        "colab": {
          "base_uri": "https://localhost:8080/"
        },
        "id": "puqGzKgraeHG",
        "outputId": "c3a0ca9a-0eda-4346-8e88-9c5dc9229e97"
      },
      "execution_count": 11,
      "outputs": [
        {
          "output_type": "stream",
          "name": "stdout",
          "text": [
            "첫번째 정수를입력하시오.:100\n",
            "두번째 정수를입력하시오.:100\n",
            "두 합의 값은 200 입니다.\n"
          ]
        }
      ]
    },
    {
      "cell_type": "markdown",
      "source": [],
      "metadata": {
        "id": "W-dNLhLyU-9v"
      }
    }
  ]
}